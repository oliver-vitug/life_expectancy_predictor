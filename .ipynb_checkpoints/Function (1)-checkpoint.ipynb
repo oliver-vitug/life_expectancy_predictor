{
 "cells": [
  {
   "cell_type": "markdown",
   "id": "8ffd2d51-7ddf-4a06-8cf6-736cc349dc53",
   "metadata": {},
   "source": [
    "## Function"
   ]
  },
  {
   "cell_type": "code",
   "execution_count": 1,
   "id": "b7b8df63-dae0-43ba-b9f9-8c5ac479f44b",
   "metadata": {
    "tags": []
   },
   "outputs": [],
   "source": [
    "#Importing the four main libraries\n",
    "import numpy as np # for maths\n",
    "import seaborn as sns # to augment matplotlib/visuals\n",
    "import matplotlib.pyplot as plt # visuals\n",
    "import pandas as pd # data\n",
    "\n",
    "# We use train/test split for our data\n",
    "from sklearn.model_selection import train_test_split\n",
    "\n",
    "# Scaling\n",
    "from sklearn.preprocessing import StandardScaler, RobustScaler, MinMaxScaler\n",
    "\n",
    "# Modelling library : stats models\n",
    "import statsmodels.api as sm # contains the model\n",
    "import statsmodels.tools # contains the metrics\n"
   ]
  },
  {
   "cell_type": "code",
   "execution_count": null,
   "id": "da74c8f5-71de-4b54-8ed0-d982713b4e47",
   "metadata": {
    "tags": []
   },
   "outputs": [],
   "source": [
    "# Import test/train, feature engineering, robust scaler and linear regression model\n",
    "import import_ipynb\n",
    "import report"
   ]
  },
  {
   "cell_type": "code",
   "execution_count": 5,
   "id": "cb1ac472-ba48-49c6-a9ab-d871a89f213a",
   "metadata": {
    "tags": []
   },
   "outputs": [],
   "source": [
    "#Read in the data\n",
    "df = pd.read_csv('Life Expectancy Data.csv')"
   ]
  },
  {
   "cell_type": "code",
   "execution_count": 31,
   "id": "4b1c6a92-c0cb-4601-93cc-765e187eeaef",
   "metadata": {
    "tags": []
   },
   "outputs": [],
   "source": [
    "#feature columns for sensitive data\n",
    "feature_cols_sens = ['const', 'Region_Asia',\n",
    "       'Region_Central America and Caribbean', 'Region_European Union',\n",
    "       'Region_Middle East', 'Region_North America', 'Region_Oceania',\n",
    "       'Region_Rest of Europe', 'Region_South America', 'Under_five_deaths',\n",
    "       'Adult_mortality', 'Hepatitis_B', 'GDP_per_capita',\n",
    "        'Schooling', 'Economy_status_Developed']"
   ]
  },
  {
   "cell_type": "code",
   "execution_count": 33,
   "id": "da50cd36-595c-4552-b152-6ad8ae6355bf",
   "metadata": {
    "tags": []
   },
   "outputs": [],
   "source": [
    "#basic feature columns\n",
    "feature_cols = ['const',\n",
    "       'Adult_mortality', 'GDP_per_capita', 'Economy_status_Developed'] "
   ]
  },
  {
   "cell_type": "code",
   "execution_count": 258,
   "id": "acd800cf-5f04-44ec-867f-e6301ba2c62b",
   "metadata": {
    "tags": []
   },
   "outputs": [
    {
     "name": "stdin",
     "output_type": "stream",
     "text": [
      "Do you consent to using advance population data, which may include protected data, for a more accurate model? Y/N y\n",
      "What is your region Region_Middle East\n",
      "What is the rate of under five deaths? 4.3\n",
      "What is the rate of adult mortality? 57.9510\n",
      "What is the vaccine rate of hepatitis b? 97\n",
      "What is the gdp per capita? 33995\n",
      "What is the average schooling? 12.8\n",
      "Is the country developed (1 for yes and 0 for no)? 1\n"
     ]
    },
    {
     "name": "stdout",
     "output_type": "stream",
     "text": [
      "The average life expectancy for the more accurate model is: 81.04\n"
     ]
    }
   ],
   "source": [
    "# Life Expectancy\n",
    "def life_expectancy(features, coeff):\n",
    "    features = features.sort_index()\n",
    "    coeff = coeff.sort_index()\n",
    "    # print(f'Ordered features: {features}')\n",
    "    # print(f'Ordered coeff: {coeff}')\n",
    "    combined = list(zip(features, coeff))\n",
    "    # print(combined)\n",
    "    prediction = sum(x * y for x, y in combined)\n",
    "    return round(prediction, 2)\n",
    "\n",
    "# Prompt user for input for each feature\n",
    "sensitive = input('Do you consent to using advance population data, which may include protected data, for a more accurate model? Y/N').lower()\n",
    "features = pd.Series()\n",
    "if sensitive == 'y': \n",
    "    Region = input('What is your region' )\n",
    "    features[Region] = 1\n",
    "    features['Under_five_deaths'] = float(input('What is the rate of under five deaths?'))\n",
    "    features['Adult_mortality'] = float(input('What is the rate of adult mortality?'))\n",
    "    features['Hepatitis_B'] = float(input('What is the vaccine rate of hepatitis b?'))\n",
    "    features['GDP_per_capita'] = float(input('What is the gdp per capita?'))\n",
    "    features['Schooling'] = float(input('What is the average schooling?'))\n",
    "    features['Economy_status_Developed'] = float(input('Is the country developed (1 for yes and 0 for no)?'))\n",
    "    features_df = features.to_frame().T\n",
    "    # so we are dealing with the columns regions OHE\n",
    "    X_train_f = report.feature_eng(X_train_f)\n",
    "    # Adding features to the end of the dataframe\n",
    "    df_f= pd.concat([X_train_f, features_df], axis = 0)\n",
    "    # Now we can scale our features\n",
    "    df_f = report.scaler_rob(df_f)\n",
    "    # now we only take the inputted features\n",
    "    df_f = df_f.tail(1)\n",
    "    # replace nan with null\n",
    "    df_f = df_f.fillna(0)\n",
    "    # use same columns\n",
    "    df_f = df_f[feature_cols_sens]\n",
    "    # Collapse dataframe into Series\n",
    "    df_series = df_f.iloc[0]\n",
    "    # print(df_series)\n",
    "    X_train_fe = report.scaler_rob(X_train_f)\n",
    "    results_sens = report.ols_lin(y_train_f, X_train_fe, feature_cols_sens)\n",
    "    # print(results_sens.params)\n",
    "    print(f'The average life expectancy for the more accurate model is: {life_expectancy(df_series, results_sens.params)}')\n",
    "    \n",
    "elif sensitive == 'n':\n",
    "    features['Adult_mortality'] = float(input('What is the rate of adult mortality?'))\n",
    "    features['GDP_per_capita'] = float(input('What is the gdp per capita?'))\n",
    "    features['Economy_status_Developed'] = float(input('Is the country developed (1 for yes and 0 for no)?'))\n",
    "    features_df = features.to_frame().T\n",
    "    # so we are dealing with the columns regions OHE\n",
    "    X_train_f = report.feature_eng(X_train_f)\n",
    "    # Adding features to the end of the dataframe\n",
    "    df_f= pd.concat([X_train_f, features_df], axis = 0)\n",
    "    # Now we can scale our features\n",
    "    df_f = report.scaler_rob(df_f)\n",
    "    # now we only take the inputted features\n",
    "    df_f = df_f.tail(1)\n",
    "    # replace nan with null\n",
    "    df_f = df_f.fillna(0)\n",
    "    # use same columns\n",
    "    df_f = df_f[feature_cols]\n",
    "    # Collapse dataframe into Series\n",
    "    df_series = df_f.iloc[0]\n",
    "    # print(df_series)\n",
    "    X_train_fe = report.scaler_rob(X_train_f)\n",
    "    results = report.ols_lin(y_train_f, X_train_fe, feature_cols)\n",
    "    # print(results.params)\n",
    "    print(f'The average life expectancy for the base model is: {life_expectancy(df_series, results.params)}')"
   ]
  },
  {
   "cell_type": "code",
   "execution_count": 229,
   "id": "e5d7179d-5c10-4f09-afbb-64f84e9732f1",
   "metadata": {
    "tags": []
   },
   "outputs": [
    {
     "data": {
      "text/html": [
       "<div>\n",
       "<style scoped>\n",
       "    .dataframe tbody tr th:only-of-type {\n",
       "        vertical-align: middle;\n",
       "    }\n",
       "\n",
       "    .dataframe tbody tr th {\n",
       "        vertical-align: top;\n",
       "    }\n",
       "\n",
       "    .dataframe thead th {\n",
       "        text-align: right;\n",
       "    }\n",
       "</style>\n",
       "<table border=\"1\" class=\"dataframe\">\n",
       "  <thead>\n",
       "    <tr style=\"text-align: right;\">\n",
       "      <th></th>\n",
       "      <th>Country</th>\n",
       "      <th>Region</th>\n",
       "      <th>Year</th>\n",
       "      <th>Infant_deaths</th>\n",
       "      <th>Under_five_deaths</th>\n",
       "      <th>Adult_mortality</th>\n",
       "      <th>Alcohol_consumption</th>\n",
       "      <th>Hepatitis_B</th>\n",
       "      <th>Measles</th>\n",
       "      <th>BMI</th>\n",
       "      <th>Polio</th>\n",
       "      <th>Diphtheria</th>\n",
       "      <th>Incidents_HIV</th>\n",
       "      <th>GDP_per_capita</th>\n",
       "      <th>Population_mln</th>\n",
       "      <th>Thinness_ten_nineteen_years</th>\n",
       "      <th>Thinness_five_nine_years</th>\n",
       "      <th>Schooling</th>\n",
       "      <th>Economy_status_Developed</th>\n",
       "      <th>Economy_status_Developing</th>\n",
       "      <th>Life_expectancy</th>\n",
       "    </tr>\n",
       "  </thead>\n",
       "  <tbody>\n",
       "    <tr>\n",
       "      <th>1</th>\n",
       "      <td>Spain</td>\n",
       "      <td>European Union</td>\n",
       "      <td>2015</td>\n",
       "      <td>2.7</td>\n",
       "      <td>3.3</td>\n",
       "      <td>57.9025</td>\n",
       "      <td>10.35</td>\n",
       "      <td>97</td>\n",
       "      <td>94</td>\n",
       "      <td>26.0</td>\n",
       "      <td>97</td>\n",
       "      <td>97</td>\n",
       "      <td>0.09</td>\n",
       "      <td>25742</td>\n",
       "      <td>46.44</td>\n",
       "      <td>0.6</td>\n",
       "      <td>0.5</td>\n",
       "      <td>9.7</td>\n",
       "      <td>1</td>\n",
       "      <td>0</td>\n",
       "      <td>82.8</td>\n",
       "    </tr>\n",
       "    <tr>\n",
       "      <th>4</th>\n",
       "      <td>Israel</td>\n",
       "      <td>Middle East</td>\n",
       "      <td>2012</td>\n",
       "      <td>3.4</td>\n",
       "      <td>4.3</td>\n",
       "      <td>57.9510</td>\n",
       "      <td>2.89</td>\n",
       "      <td>97</td>\n",
       "      <td>89</td>\n",
       "      <td>27.0</td>\n",
       "      <td>94</td>\n",
       "      <td>94</td>\n",
       "      <td>0.08</td>\n",
       "      <td>33995</td>\n",
       "      <td>7.91</td>\n",
       "      <td>1.2</td>\n",
       "      <td>1.1</td>\n",
       "      <td>12.8</td>\n",
       "      <td>1</td>\n",
       "      <td>0</td>\n",
       "      <td>81.7</td>\n",
       "    </tr>\n",
       "    <tr>\n",
       "      <th>7</th>\n",
       "      <td>Hungary</td>\n",
       "      <td>European Union</td>\n",
       "      <td>2000</td>\n",
       "      <td>8.7</td>\n",
       "      <td>10.1</td>\n",
       "      <td>192.9690</td>\n",
       "      <td>12.23</td>\n",
       "      <td>88</td>\n",
       "      <td>99</td>\n",
       "      <td>25.9</td>\n",
       "      <td>99</td>\n",
       "      <td>99</td>\n",
       "      <td>0.08</td>\n",
       "      <td>8971</td>\n",
       "      <td>10.21</td>\n",
       "      <td>2.3</td>\n",
       "      <td>2.3</td>\n",
       "      <td>10.2</td>\n",
       "      <td>1</td>\n",
       "      <td>0</td>\n",
       "      <td>71.2</td>\n",
       "    </tr>\n",
       "  </tbody>\n",
       "</table>\n",
       "</div>"
      ],
      "text/plain": [
       "   Country          Region  Year  Infant_deaths  Under_five_deaths  \\\n",
       "1    Spain  European Union  2015            2.7                3.3   \n",
       "4   Israel     Middle East  2012            3.4                4.3   \n",
       "7  Hungary  European Union  2000            8.7               10.1   \n",
       "\n",
       "   Adult_mortality  Alcohol_consumption  Hepatitis_B  Measles   BMI  Polio  \\\n",
       "1          57.9025                10.35           97       94  26.0     97   \n",
       "4          57.9510                 2.89           97       89  27.0     94   \n",
       "7         192.9690                12.23           88       99  25.9     99   \n",
       "\n",
       "   Diphtheria  Incidents_HIV  GDP_per_capita  Population_mln  \\\n",
       "1          97           0.09           25742           46.44   \n",
       "4          94           0.08           33995            7.91   \n",
       "7          99           0.08            8971           10.21   \n",
       "\n",
       "   Thinness_ten_nineteen_years  Thinness_five_nine_years  Schooling  \\\n",
       "1                          0.6                       0.5        9.7   \n",
       "4                          1.2                       1.1       12.8   \n",
       "7                          2.3                       2.3       10.2   \n",
       "\n",
       "   Economy_status_Developed  Economy_status_Developing  Life_expectancy  \n",
       "1                         1                          0             82.8  \n",
       "4                         1                          0             81.7  \n",
       "7                         1                          0             71.2  "
      ]
     },
     "execution_count": 229,
     "metadata": {},
     "output_type": "execute_result"
    }
   ],
   "source": [
    "df[df['Economy_status_Developed'] == 1].head(3)"
   ]
  }
 ],
 "metadata": {
  "kernelspec": {
   "display_name": "Python 3 (ipykernel)",
   "language": "python",
   "name": "python3"
  },
  "language_info": {
   "codemirror_mode": {
    "name": "ipython",
    "version": 3
   },
   "file_extension": ".py",
   "mimetype": "text/x-python",
   "name": "python",
   "nbconvert_exporter": "python",
   "pygments_lexer": "ipython3",
   "version": "3.11.7"
  }
 },
 "nbformat": 4,
 "nbformat_minor": 5
}
