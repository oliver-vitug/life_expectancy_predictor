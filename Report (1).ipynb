{
 "cells": [
  {
   "cell_type": "markdown",
   "id": "dca8f390-a9f7-4c7d-8330-197b50af5c8c",
   "metadata": {},
   "source": [
    "<div align=\"center\"> <h1> WHO Life Expectancy Prediction Model Report</h1> </div>"
   ]
  },
  {
   "cell_type": "markdown",
   "id": "ab7ac51e-2b14-4cf5-88b5-9b965ba187e0",
   "metadata": {},
   "source": [
    "<img src=\"https://data.org/wp-content/uploads/2024/01/WHO_logo.svg\" style=\"width:100%; height:200px; object-fit:cover;\" />"
   ]
  },
  {
   "cell_type": "markdown",
   "id": "8dda5291-a072-4936-894b-663061832269",
   "metadata": {},
   "source": [
    "The **objective** of this project is to create a robust predictive model using linear regression with a low margin of error."
   ]
  },
  {
   "cell_type": "markdown",
   "id": "daeee606-1bd6-41b8-995b-ede23c58fb85",
   "metadata": {
    "tags": []
   },
   "source": [
    "### Table of Contents\n",
    " - 01: Exploratory Data Analysis\n",
    " - 02: Modelling\n",
    " - 03: Function\n",
    " - 04: Conclusions"
   ]
  },
  {
   "cell_type": "markdown",
   "id": "f8504493-8c6f-4cb7-a398-7c0bf2183344",
   "metadata": {},
   "source": [
    "## 01: Exploratory Data Analysis"
   ]
  },
  {
   "cell_type": "markdown",
   "id": "5cdef5ba-6f51-477a-b226-218b12705622",
   "metadata": {},
   "source": [
    "This section explores the data, looking only at the features."
   ]
  },
  {
   "cell_type": "code",
   "execution_count": null,
   "id": "32fbe606-de86-48f6-8f39-31cfd919f472",
   "metadata": {},
   "outputs": [],
   "source": [
    "# Plot to check if features correlate\n",
    "sns.pairplot(X_train)\n",
    "plt.show()\n",
    "# This is where much correlation was found which will be discussed."
   ]
  },
  {
   "cell_type": "code",
   "execution_count": null,
   "id": "95145bb6-dd12-4259-b72b-fa9ff3a3f16a",
   "metadata": {},
   "outputs": [],
   "source": [
    "# Check if features correlate\n",
    "X_train.corr(numeric_only = True)\n",
    "# There is much correlation which will be explored below"
   ]
  },
  {
   "cell_type": "markdown",
   "id": "5cd3a97e-0477-4c65-826f-5dcafcb1f291",
   "metadata": {},
   "source": [
    "#### 1.1 Ethical Considerations:\n",
    "- Medical records: sensitive data - vaccination rates\n",
    "- Omitting countries - ethical and modelling reasons\n",
    "- Some columns were already omitted: percentage expenditure, total expenditure, income composition of resources"
   ]
  },
  {
   "cell_type": "markdown",
   "id": "9244b39e-5968-4562-a1b4-90657ca81167",
   "metadata": {},
   "source": [
    "#### 1.2) Observations\n",
    "- Thinness in both age groups are correlated as the ages overlap.\n",
    "- Strong correlation between infant death and under 5 death - multicollinearity.\n",
    "- Somewhat of a negative correlation between child and adolescent thinness and BMI\n",
    "- Positive correlation between diptheria and polio and hepatitis b.\n",
    "\n",
    "**1.3) Columns that show potential multicolinearity:**   \n",
    "When analysing the correlation matrix for the features of our model, the decision was made to drop certain columns to reduce multicolinearity in this model. \n",
    "\n",
    "Infant deaths: \n",
    "- between ages of 0-1 already represented in under 5 deaths \n",
    "\n",
    "Thinness 5-9 and Thinness 10-19:\n",
    "- both correlated to each other and other features e.g. ‘Schooling’ \n",
    "\n",
    "HIV: \n",
    "- highly correlated to ‘Adult Mortality’ which we considered more valuable in predicting life expectancy\n",
    "\n",
    "Diptheria and Polio: \n",
    "- both highly correlated to infant deaths, each other and Hepatitis B\n",
    "\n",
    "BMI: \n",
    "- BMI can be considered flawed and racially biased \n",
    "Not a very representative indicator of health \n",
    "\n",
    "Alcohol: \n",
    "- correlations between ‘Schooling’ and ‘Economy Status (both Developed and Developing)’\n",
    "\n",
    "Economy Status Developing: \n",
    "- Only needed one of either ‘Economy Status Developed’ and ‘Economy Status Developing’\n",
    "\n",
    "**1.4) Columns that do not seem useful:**\n",
    "- Year\n"
   ]
  },
  {
   "cell_type": "markdown",
   "id": "627f4c33-5f2b-47e0-a54b-b00a27cf8fa1",
   "metadata": {},
   "source": [
    "## 02: Modelling"
   ]
  },
  {
   "cell_type": "markdown",
   "id": "447fbb02-d3e2-4578-a429-a9f090e73a55",
   "metadata": {
    "tags": []
   },
   "source": [
    "#### 2.1: Importing libraries and reading the data"
   ]
  },
  {
   "cell_type": "code",
   "execution_count": null,
   "id": "c9f43d97-89db-4083-b2a5-f40c9dea0eae",
   "metadata": {
    "tags": []
   },
   "outputs": [],
   "source": [
    "#Importing the four main libraries\n",
    "import numpy as np # for maths\n",
    "import seaborn as sns # to augment matplotlib/visuals\n",
    "import matplotlib.pyplot as plt # visuals\n",
    "import pandas as pd # data\n",
    "\n",
    "# We use train/test split for our data\n",
    "from sklearn.model_selection import train_test_split\n",
    "\n",
    "# Scaling\n",
    "from sklearn.preprocessing import StandardScaler, RobustScaler, MinMaxScaler\n",
    "\n",
    "# Modelling library : stats models\n",
    "import statsmodels.api as sm # contains the model\n",
    "import statsmodels.tools # contains the metrics\n",
    "\n",
    "# Metrics from sklearn\n",
    "from sklearn import metrics"
   ]
  },
  {
   "cell_type": "code",
   "execution_count": null,
   "id": "c56554e5-2d03-4ccd-aa88-cc18f20847ae",
   "metadata": {},
   "outputs": [],
   "source": [
    "df = pd.read_csv('Life Expectancy Data.csv')"
   ]
  },
  {
   "cell_type": "code",
   "execution_count": null,
   "id": "239f2aa3-72e1-4aab-9441-79f3dd985b15",
   "metadata": {},
   "outputs": [],
   "source": [
    "pd.set_option('display.max_columns', None)"
   ]
  },
  {
   "cell_type": "code",
   "execution_count": null,
   "id": "5fc445cf-3c7f-4c0f-86cd-95a5960b1dd5",
   "metadata": {},
   "outputs": [],
   "source": [
    "df.head()"
   ]
  },
  {
   "cell_type": "code",
   "execution_count": null,
   "id": "647748df-e905-451d-bae0-041168dbefc4",
   "metadata": {},
   "outputs": [],
   "source": [
    "df.columns"
   ]
  },
  {
   "cell_type": "markdown",
   "id": "2a550b7e-2671-4f5f-8c47-a478111cdb8a",
   "metadata": {
    "tags": []
   },
   "source": [
    "#### 2.2: Train/test split"
   ]
  },
  {
   "cell_type": "code",
   "execution_count": null,
   "id": "3ac169aa-285d-4fc4-ab39-8bd0607aab09",
   "metadata": {
    "tags": []
   },
   "outputs": [],
   "source": [
    "def train_test(df):\n",
    "    df = df.copy()\n",
    "    feature_cols = list(df.columns) # Selects all the columns\n",
    "    feature_cols.remove('Life_expectancy') # Removes the target\n",
    "    X = df[feature_cols] # Dataframe which holds all the features\n",
    "    y = df['Life_expectancy'] # The target to predict\n",
    "    # Train/test split data\n",
    "    X_train, X_test, y_train, y_test = train_test_split(X, # features\n",
    "                                                    y, # target\n",
    "                                                    test_size = 0.2, # The % allocated to test\n",
    "                                                    random_state = 56) # Random state - python will retain the shuffle of dataset\n",
    "    return X_train, X_test, y_train, y_test"
   ]
  },
  {
   "cell_type": "code",
   "execution_count": null,
   "id": "21aee6bd-50dd-4396-aae9-5abb229f2c1b",
   "metadata": {
    "tags": []
   },
   "outputs": [],
   "source": [
    "# Run function to create train test split\n",
    "X_train, X_test, y_train, y_test = train_test(df)"
   ]
  },
  {
   "cell_type": "code",
   "execution_count": null,
   "id": "6bfefdf0-9320-460c-961b-f74bc7850dc6",
   "metadata": {},
   "outputs": [],
   "source": [
    "# Sanity check for the split\n",
    "print(all(X_train.index == y_train.index)) # Check training indices match\n",
    "print(all(X_test.index == y_test.index)) # Check testing indices match"
   ]
  },
  {
   "cell_type": "code",
   "execution_count": null,
   "id": "1bcd4810-9fbf-400d-8586-7b5a666c4e63",
   "metadata": {},
   "outputs": [],
   "source": [
    "# To look at central tendencies of training dataset.\n",
    "X_train.describe()"
   ]
  },
  {
   "cell_type": "markdown",
   "id": "ad769941-bfd1-4882-9f0a-46f80909cf8f",
   "metadata": {},
   "source": [
    "#### 2.3: Feature Engineering"
   ]
  },
  {
   "cell_type": "code",
   "execution_count": null,
   "id": "f45a324e-3eb7-4e7c-82be-0533f909a5b6",
   "metadata": {},
   "outputs": [],
   "source": [
    "## Applying feature engineering on X-train\n",
    "\n",
    "def feature_eng(df):\n",
    "        # create a local copy of the data\n",
    "        df = df.copy() \n",
    "        # drop column country and year\n",
    "        if 'Country' or 'Year' in df.columns:\n",
    "            df = df.drop(columns=['Country', 'Year'], errors='ignore')\n",
    "        if 'Region' in df.columns:\n",
    "        # OHE the relevant columns\n",
    "            df = pd.get_dummies(df, columns = ['Region'], drop_first = True, prefix = 'Region', dtype = int) # OHE\n",
    "        return df\n"
   ]
  },
  {
   "cell_type": "code",
   "execution_count": null,
   "id": "2147c414-c2e7-4206-a88f-ecbd679fbee4",
   "metadata": {
    "tags": []
   },
   "outputs": [],
   "source": [
    "#Robust Scaler\n",
    "def scaler_rob(df):\n",
    "    rob = RobustScaler() ## Initial scaler\n",
    "    rob.fit(df) ## Fit the data\n",
    "    df_scaled = rob.transform(df)\n",
    "    df_scaled = pd.DataFrame(df_scaled, columns=df.columns, index=df.index)\n",
    "    df_scaled = sm.add_constant(df_scaled)\n",
    "    #Return our result\n",
    "    return df_scaled"
   ]
  },
  {
   "cell_type": "code",
   "execution_count": null,
   "id": "f87a106d-e5f2-43e4-8c92-c2b3360ed778",
   "metadata": {
    "tags": []
   },
   "outputs": [],
   "source": [
    "## Transform X_train\n",
    "X_train_fe = feature_eng(X_train)"
   ]
  },
  {
   "cell_type": "code",
   "execution_count": null,
   "id": "02d791fc-3f2c-49b7-8e09-34975f4e97b8",
   "metadata": {
    "tags": []
   },
   "outputs": [],
   "source": [
    "## Scale X_train\n",
    "X_train_fe = scaler_rob(X_train_fe)"
   ]
  },
  {
   "cell_type": "code",
   "execution_count": null,
   "id": "a1bc3be8-ab7c-434f-8aa4-5a1ee322ccbe",
   "metadata": {
    "tags": []
   },
   "outputs": [],
   "source": [
    "X_train_fe.head()"
   ]
  },
  {
   "cell_type": "markdown",
   "id": "0e846250-d642-4e2a-86ac-8d97003e7a55",
   "metadata": {},
   "source": [
    "#### 2.4.1: Statistical Model: Basic"
   ]
  },
  {
   "cell_type": "markdown",
   "id": "203f9ca5-e2f6-4633-937b-08111ea02c76",
   "metadata": {},
   "source": [
    "This is the model that does not use sensitive data."
   ]
  },
  {
   "cell_type": "code",
   "execution_count": null,
   "id": "a09571b1-449e-4896-b459-b42919ebe4bd",
   "metadata": {
    "tags": []
   },
   "outputs": [],
   "source": [
    "## Create a train OLS linear regression for both models\n",
    "def ols_lin(y_train, X_train_fe, feature_cols):\n",
    "    lin_reg = sm.OLS(y_train, X_train_fe[feature_cols]) # creates model\n",
    "    results = lin_reg.fit() # fit model and store it\n",
    "    return results"
   ]
  },
  {
   "cell_type": "code",
   "execution_count": null,
   "id": "e1c1bf5f-8ecf-4193-b914-30322ebc67df",
   "metadata": {},
   "outputs": [],
   "source": [
    "# Basic features: \n",
    "# After scaling, the model had a low RMSE 2.36 low condition no. 19.7\n",
    "feature_cols = ['const',\n",
    "       'Adult_mortality', 'GDP_per_capita', 'Economy_status_Developed'] "
   ]
  },
  {
   "cell_type": "code",
   "execution_count": null,
   "id": "5098f7fd-4580-4965-8ac6-ecc55cd96776",
   "metadata": {
    "tags": []
   },
   "outputs": [],
   "source": [
    "## Summary table\n",
    "results = ols_lin(y_train, X_train_fe, feature_cols)\n",
    "results.summary()"
   ]
  },
  {
   "cell_type": "code",
   "execution_count": null,
   "id": "7b38474c-ee37-48f5-9a59-221c9c7cbf37",
   "metadata": {
    "tags": []
   },
   "outputs": [],
   "source": [
    "# Gets our predictions and stores them in y_pred\n",
    "y_pred = results.predict(X_train_fe[feature_cols])\n",
    "\n",
    "# Gets the RMSE of our model: y_train(real) against y_pred (predicted)\n",
    "rmse = statsmodels.tools.eval_measures.rmse(y_train, y_pred)\n",
    "\n",
    "print(rmse)"
   ]
  },
  {
   "cell_type": "code",
   "execution_count": null,
   "id": "3be6df0e-9176-49b5-afc0-10810d66e05a",
   "metadata": {
    "tags": []
   },
   "outputs": [],
   "source": [
    "## Feature engineering the X_test set \n",
    "\n",
    "# FE X_test using the same function\n",
    "X_test_fe = feature_eng(X_test)\n",
    "\n",
    "## Scale X_test\n",
    "X_test_fe = scaler_rob(X_test_fe)\n",
    "\n",
    "# Select exact same features\n",
    "X_test_fe = X_test_fe[feature_cols]\n"
   ]
  },
  {
   "cell_type": "code",
   "execution_count": null,
   "id": "7ce8b0e5-a33a-401d-94a0-f59ae95588e1",
   "metadata": {
    "tags": []
   },
   "outputs": [],
   "source": [
    "# Test prediction\n",
    "y_test_pred = results.predict(X_test_fe) # holds predictions on the testing set\n",
    "\n",
    "# Testing RMSE\n",
    "rmse_test = statsmodels.tools.eval_measures.rmse(y_test, y_test_pred)\n",
    "print(rmse_test)"
   ]
  },
  {
   "cell_type": "markdown",
   "id": "ea6ddd6f-f363-4de6-a9e6-d407621685a1",
   "metadata": {
    "tags": []
   },
   "source": [
    "#### 2.42: Statistical Model: Optimised"
   ]
  },
  {
   "cell_type": "markdown",
   "id": "b885a934-6b4a-485c-8d72-506cbdb20500",
   "metadata": {},
   "source": [
    "This is the model that uses sensitive data."
   ]
  },
  {
   "cell_type": "code",
   "execution_count": null,
   "id": "8ec6e5af-f8bf-47d1-a887-df72486d7fd4",
   "metadata": {
    "tags": []
   },
   "outputs": [],
   "source": [
    "# Sensitive features:  \n",
    "feature_cols_sens = ['const', 'Region_Asia',\n",
    "       'Region_Central America and Caribbean', 'Region_European Union',\n",
    "       'Region_Middle East', 'Region_North America', 'Region_Oceania',\n",
    "       'Region_Rest of Europe', 'Region_South America', 'Under_five_deaths',\n",
    "       'Adult_mortality', 'Hepatitis_B', 'GDP_per_capita',\n",
    "        'Schooling', 'Economy_status_Developed'] \n",
    "# After scaling, the above value is 1.23, condition no. 22.5\n"
   ]
  },
  {
   "cell_type": "code",
   "execution_count": null,
   "id": "9618cbfc-86bc-4e3d-a0e3-76f5cb0e503b",
   "metadata": {
    "tags": []
   },
   "outputs": [],
   "source": [
    "## Summary table\n",
    "results_sens = ols_lin(y_train, X_train_fe, feature_cols_sens)\n",
    "results_sens.summary()"
   ]
  },
  {
   "cell_type": "code",
   "execution_count": null,
   "id": "6e7f0dfe-045e-4604-80f8-9fb669d92249",
   "metadata": {
    "tags": []
   },
   "outputs": [],
   "source": [
    "## Actual performance on training data\n",
    "\n",
    "# Gets our predictions and stores them in y_pred\n",
    "y_pred_sens = results_sens.predict(X_train_fe[feature_cols_sens])\n",
    "\n",
    "# Gets the RMSE of our model: y_train(real) against y_pred (predicted)\n",
    "rmse_sens = statsmodels.tools.eval_measures.rmse(y_train, y_pred_sens)\n",
    "\n",
    "print(rmse_sens)"
   ]
  },
  {
   "cell_type": "code",
   "execution_count": null,
   "id": "1e50d168-f9af-4706-a885-c4aa060330ee",
   "metadata": {
    "tags": []
   },
   "outputs": [],
   "source": [
    "## Feature engineering the X_test set \n",
    "\n",
    "# FE X_test using the same function\n",
    "X_test_fe_sens = feature_eng(X_test)\n",
    "\n",
    "## Scale X_test\n",
    "X_test_fe_sens = scaler_rob(X_test_fe_sens)\n",
    "\n",
    "# Select exact same features\n",
    "X_test_fe_sens = X_test_fe_sens[feature_cols_sens]\n"
   ]
  },
  {
   "cell_type": "code",
   "execution_count": null,
   "id": "ed9337a8-7d70-4180-abb3-403ee82b2526",
   "metadata": {
    "tags": []
   },
   "outputs": [],
   "source": [
    "# Test prediction\n",
    "y_test_pred_sens = results_sens.predict(X_test_fe_sens) # holds predictions on the testing set\n",
    "\n",
    "# Testing RMSE\n",
    "rmse_test_sens = statsmodels.tools.eval_measures.rmse(y_test, y_test_pred_sens)\n",
    "print(rmse_test_sens)"
   ]
  },
  {
   "cell_type": "markdown",
   "id": "6510b2af-f144-48f2-9b61-a488ef4a8599",
   "metadata": {
    "tags": []
   },
   "source": [
    "#### 2.5: Observations after the running the model\n",
    "**Second Iteration of EDA-**\n",
    "**Columns with low statistical significance (high p-values):**\n",
    "- Alcohol\n",
    "- Measles \n",
    "- Population \n",
    "\n",
    "**VIF and Stepwise**\n",
    "- Used before scaling and was not effective (condition no. was very high so not robust)\n",
    "- After scaling, the condition number was suitably small so we did not want to compromise the RMSE or the quality of the model by reducing it further."
   ]
  },
  {
   "cell_type": "markdown",
   "id": "b57180de-67f8-4375-9840-05fc65801882",
   "metadata": {},
   "source": [
    "## 03: Function"
   ]
  },
  {
   "cell_type": "markdown",
   "id": "b6792354-0bd6-4b26-959e-f88d42c0907c",
   "metadata": {},
   "source": [
    "This can be found in the function notebook."
   ]
  },
  {
   "cell_type": "markdown",
   "id": "c88b7323-f280-4e93-8813-2712e7431d0c",
   "metadata": {},
   "source": [
    "## 04: Conclusions"
   ]
  },
  {
   "cell_type": "markdown",
   "id": "85fd7bec-b565-41d6-ba59-3a2d55e5eb08",
   "metadata": {},
   "source": [
    "### 4.1 Evaluation of sensitive model:\n",
    "- Performance was worse compared to the optimised model with an RMSE value of 2.7 (Which tells us the margin of error of our life expectancy model predictions).\n",
    "- This model performs quite well considering the limited amount of data used for predictions (Region / Adult mortality / GDP per capita / Economy status).\n",
    "- In addtion it had an excellent condition number (19.7) indicating very low levels of collinearity in the modelling and general numerical issues, this is understandable since we have few features.\n",
    "\n",
    "### 4.11 Evaluation of optimised model: \n",
    "- This model is suitable for more accurate predictions giving a low 1.23 margin of error.\n",
    "- Requires sensitive data and may not be usable for everybody.\n",
    "- Performed well in reducing condition no. with a value of 22.5 (Slightly worst compared to sensitive model but expected due to increased features).\n",
    "\n",
    "### 4.2 Limitations:\n",
    "- The model groups countries by region and assumes that countries within a region are not unique which is false.\n",
    "- Potentially outdated data (Data from early 2000s is now 20+ years old)\n",
    "- Limited dataset more information would be required to give a better model (e.g smoking / drug use).\n",
    "- Model does not handle if country has gone from developing to developed in the time period.\n",
    "\n",
    "### 4.3 Implications and Applications:\n",
    "- A model like this could be used to inform public health policies e.g. vaccinations.\n",
    "- Can lead to discrimination- Individuals with lower life expectancy can face barriers when accessing healthcare.\n",
    "- If country chooses to give more sensitive information, data protection should be in places.\n",
    "- Individual effect of life expectancy prediction- Can lead to reduced mental well-being."
   ]
  },
  {
   "cell_type": "code",
   "execution_count": null,
   "id": "7785f7b8-3574-497c-b690-0182c456346f",
   "metadata": {},
   "outputs": [],
   "source": []
  }
 ],
 "metadata": {
  "kernelspec": {
   "display_name": "Python 3 (ipykernel)",
   "language": "python",
   "name": "python3"
  },
  "language_info": {
   "codemirror_mode": {
    "name": "ipython",
    "version": 3
   },
   "file_extension": ".py",
   "mimetype": "text/x-python",
   "name": "python",
   "nbconvert_exporter": "python",
   "pygments_lexer": "ipython3",
   "version": "3.11.7"
  }
 },
 "nbformat": 4,
 "nbformat_minor": 5
}
