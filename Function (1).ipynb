{
 "cells": [
  {
   "cell_type": "markdown",
   "id": "8ffd2d51-7ddf-4a06-8cf6-736cc349dc53",
   "metadata": {},
   "source": [
    "## Function"
   ]
  },
  {
   "cell_type": "code",
   "execution_count": 2,
   "id": "b7b8df63-dae0-43ba-b9f9-8c5ac479f44b",
   "metadata": {
    "tags": []
   },
   "outputs": [],
   "source": [
    "#Importing the four main libraries\n",
    "import numpy as np # for maths\n",
    "import seaborn as sns # to augment matplotlib/visuals\n",
    "import matplotlib.pyplot as plt # visuals\n",
    "import pandas as pd # data\n",
    "\n",
    "# We use train/test split for our data\n",
    "from sklearn.model_selection import train_test_split\n",
    "\n",
    "# Scaling\n",
    "from sklearn.preprocessing import StandardScaler, RobustScaler, MinMaxScaler\n",
    "\n",
    "# Modelling library : stats models\n",
    "import statsmodels.api as sm # contains the model\n",
    "import statsmodels.tools # contains the metrics\n"
   ]
  },
  {
   "cell_type": "code",
   "execution_count": null,
   "id": "da74c8f5-71de-4b54-8ed0-d982713b4e47",
   "metadata": {
    "tags": []
   },
   "outputs": [],
   "source": [
    "# Import test/train, feature engineering, robust scaler and linear regression model\n",
    "import import_ipynb\n",
    "import report"
   ]
  },
  {
   "cell_type": "code",
   "execution_count": null,
   "id": "cb1ac472-ba48-49c6-a9ab-d871a89f213a",
   "metadata": {
    "tags": []
   },
   "outputs": [],
   "source": [
    "#Read in the data\n",
    "df = pd.read_csv('Life Expectancy Data.csv')"
   ]
  },
  {
   "cell_type": "code",
   "execution_count": null,
   "id": "4b1c6a92-c0cb-4601-93cc-765e187eeaef",
   "metadata": {
    "tags": []
   },
   "outputs": [],
   "source": [
    "#feature columns for sensitive data\n",
    "feature_cols_sens = ['const', 'Region_Asia',\n",
    "       'Region_Central America and Caribbean', 'Region_European Union',\n",
    "       'Region_Middle East', 'Region_North America', 'Region_Oceania',\n",
    "       'Region_Rest of Europe', 'Region_South America', 'Under_five_deaths',\n",
    "       'Adult_mortality', 'Hepatitis_B', 'GDP_per_capita',\n",
    "        'Schooling', 'Economy_status_Developed']"
   ]
  },
  {
   "cell_type": "code",
   "execution_count": null,
   "id": "da50cd36-595c-4552-b152-6ad8ae6355bf",
   "metadata": {
    "tags": []
   },
   "outputs": [],
   "source": [
    "#basic feature columns\n",
    "feature_cols = ['const',\n",
    "       'Adult_mortality', 'GDP_per_capita', 'Economy_status_Developed'] "
   ]
  },
  {
   "cell_type": "code",
   "execution_count": null,
   "id": "acd800cf-5f04-44ec-867f-e6301ba2c62b",
   "metadata": {
    "tags": []
   },
   "outputs": [],
   "source": [
    "# Life Expectancy\n",
    "def life_expectancy(features, coeff):\n",
    "    features = features.sort_index()\n",
    "    coeff = coeff.sort_index()\n",
    "    # print(f'Ordered features: {features}')\n",
    "    # print(f'Ordered coeff: {coeff}')\n",
    "    combined = list(zip(features, coeff))\n",
    "    # print(combined)\n",
    "    prediction = sum(x * y for x, y in combined)\n",
    "    return round(prediction, 2)\n",
    "\n",
    "# Prompt user for input for each feature\n",
    "sensitive = input('Do you consent to using advance population data, which may include protected data, for a more accurate model? Y/N').lower()\n",
    "features = pd.Series()\n",
    "if sensitive == 'y': \n",
    "    Region = input('What is your region' )\n",
    "    features[Region] = 1\n",
    "    features['Under_five_deaths'] = float(input('What is the rate of under five deaths?'))\n",
    "    features['Adult_mortality'] = float(input('What is the rate of adult mortality?'))\n",
    "    features['Hepatitis_B'] = float(input('What is the vaccine rate of hepatitis b?'))\n",
    "    features['GDP_per_capita'] = float(input('What is the gdp per capita?'))\n",
    "    features['Schooling'] = float(input('What is the average schooling?'))\n",
    "    features['Economy_status_Developed'] = float(input('Is the country developed (1 for yes and 0 for no)?'))\n",
    "    features_df = features.to_frame().T\n",
    "    # so we are dealing with the columns regions OHE\n",
    "    X_train_f = report.feature_eng(X_train_f)\n",
    "    # Adding features to the end of the dataframe\n",
    "    df_f= pd.concat([X_train_f, features_df], axis = 0)\n",
    "    # Now we can scale our features\n",
    "    df_f = report.scaler_rob(df_f)\n",
    "    # now we only take the inputted features\n",
    "    df_f = df_f.tail(1)\n",
    "    # replace nan with null\n",
    "    df_f = df_f.fillna(0)\n",
    "    # use same columns\n",
    "    df_f = df_f[feature_cols_sens]\n",
    "    # Collapse dataframe into Series\n",
    "    df_series = df_f.iloc[0]\n",
    "    # print(df_series)\n",
    "    X_train_fe = report.scaler_rob(X_train_f)\n",
    "    results_sens = report.ols_lin(y_train_f, X_train_fe, feature_cols_sens)\n",
    "    # print(results_sens.params)\n",
    "    print(f'The average life expectancy for the more accurate model is: {life_expectancy(df_series, results_sens.params)}')\n",
    "    \n",
    "elif sensitive == 'n':\n",
    "    features['Adult_mortality'] = float(input('What is the rate of adult mortality?'))\n",
    "    features['GDP_per_capita'] = float(input('What is the gdp per capita?'))\n",
    "    features['Economy_status_Developed'] = float(input('Is the country developed (1 for yes and 0 for no)?'))\n",
    "    features_df = features.to_frame().T\n",
    "    # so we are dealing with the columns regions OHE\n",
    "    X_train_f = report.feature_eng(X_train_f)\n",
    "    # Adding features to the end of the dataframe\n",
    "    df_f= pd.concat([X_train_f, features_df], axis = 0)\n",
    "    # Now we can scale our features\n",
    "    df_f = report.scaler_rob(df_f)\n",
    "    # now we only take the inputted features\n",
    "    df_f = df_f.tail(1)\n",
    "    # replace nan with null\n",
    "    df_f = df_f.fillna(0)\n",
    "    # use same columns\n",
    "    df_f = df_f[feature_cols]\n",
    "    # Collapse dataframe into Series\n",
    "    df_series = df_f.iloc[0]\n",
    "    # print(df_series)\n",
    "    X_train_fe = report.scaler_rob(X_train_f)\n",
    "    results = report.ols_lin(y_train_f, X_train_fe, feature_cols)\n",
    "    # print(results.params)\n",
    "    print(f'The average life expectancy for the base model is: {life_expectancy(df_series, results.params)}')"
   ]
  },
  {
   "cell_type": "code",
   "execution_count": null,
   "id": "e5d7179d-5c10-4f09-afbb-64f84e9732f1",
   "metadata": {
    "tags": []
   },
   "outputs": [],
   "source": [
    "df[df['Economy_status_Developed'] == 1].head(3)"
   ]
  }
 ],
 "metadata": {
  "kernelspec": {
   "display_name": "Python 3 (ipykernel)",
   "language": "python",
   "name": "python3"
  },
  "language_info": {
   "codemirror_mode": {
    "name": "ipython",
    "version": 3
   },
   "file_extension": ".py",
   "mimetype": "text/x-python",
   "name": "python",
   "nbconvert_exporter": "python",
   "pygments_lexer": "ipython3",
   "version": "3.11.7"
  }
 },
 "nbformat": 4,
 "nbformat_minor": 5
}
